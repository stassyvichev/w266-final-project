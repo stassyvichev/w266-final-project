{
 "cells": [
  {
   "cell_type": "code",
   "execution_count": 21,
   "metadata": {},
   "outputs": [],
   "source": [
    "import logging\n",
    "from datetime import datetime\n",
    "\n",
    "from experiments.run_context import RunContext\n",
    "import datasets.tweets as tweets\n",
    "from importlib import reload\n",
    "reload(tweets)\n",
    "logging.basicConfig(level=logging.INFO)\n",
    "LOG = logging.getLogger('main')"
   ]
  },
  {
   "cell_type": "code",
   "execution_count": 22,
   "metadata": {},
   "outputs": [
    {
     "name": "stdout",
     "output_type": "stream",
     "text": [
      "<datasets.tweets.Datafile object at 0x7f90dcd67400>\n"
     ]
    }
   ],
   "source": [
    "reload(tweets)\n",
    "n_extra_unlabeled = 0\n",
    "tweetData = tweets.TweetData(42, n_extra_unlabeled)"
   ]
  },
  {
   "cell_type": "code",
   "execution_count": 28,
   "metadata": {},
   "outputs": [
    {
     "name": "stdout",
     "output_type": "stream",
     "text": [
      "<class 'numpy.void'>\n",
      "(500,)\n",
      "-1\n"
     ]
    }
   ],
   "source": [
    "a = tweetData.FILES[\"extra\"].data[0]\n",
    "print(type(a))\n",
    "print(a['x'].shape)\n",
    "print(a['y'])"
   ]
  },
  {
   "cell_type": "code",
   "execution_count": 26,
   "metadata": {},
   "outputs": [
    {
     "name": "stdout",
     "output_type": "stream",
     "text": [
      "<class 'numpy.ndarray'>\n",
      "(3530,)\n",
      "(3530, 500)\n",
      "(3530,)\n"
     ]
    }
   ],
   "source": [
    "print(type(tweetData.training))\n",
    "print(tweetData.training.shape)\n",
    "print(tweetData.training['x'].shape)\n",
    "print(tweetData.training['y'].shape)"
   ]
  },
  {
   "cell_type": "code",
   "execution_count": 27,
   "metadata": {},
   "outputs": [
    {
     "name": "stdout",
     "output_type": "stream",
     "text": [
      "<class 'numpy.ndarray'>\n",
      "(441,)\n",
      "(441, 500)\n",
      "(441,)\n"
     ]
    }
   ],
   "source": [
    "print(type(tweetData.evaluation))\n",
    "print(tweetData.evaluation.shape)\n",
    "print(tweetData.evaluation['x'].shape)\n",
    "print(tweetData.evaluation['y'].shape)"
   ]
  },
  {
   "cell_type": "code",
   "execution_count": null,
   "metadata": {},
   "outputs": [],
   "source": []
  }
 ],
 "metadata": {
  "kernelspec": {
   "display_name": "Python 3",
   "language": "python",
   "name": "python3"
  },
  "language_info": {
   "codemirror_mode": {
    "name": "ipython",
    "version": 3
   },
   "file_extension": ".py",
   "mimetype": "text/x-python",
   "name": "python",
   "nbconvert_exporter": "python",
   "pygments_lexer": "ipython3",
   "version": "3.6.4"
  }
 },
 "nbformat": 4,
 "nbformat_minor": 2
}
