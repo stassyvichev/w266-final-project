{
 "cells": [
  {
   "cell_type": "code",
   "execution_count": 1,
   "metadata": {},
   "outputs": [
    {
     "name": "stderr",
     "output_type": "stream",
     "text": [
      "/home/stassyvichev/anaconda3/lib/python3.6/site-packages/h5py/__init__.py:36: FutureWarning: Conversion of the second argument of issubdtype from `float` to `np.floating` is deprecated. In future, it will be treated as `np.float64 == np.dtype(float).type`.\n",
      "  from ._conv import register_converters as _register_converters\n"
     ]
    }
   ],
   "source": [
    "import numpy as np\n",
    "import pandas\n",
    "import tensorflow as tf"
   ]
  },
  {
   "cell_type": "code",
   "execution_count": 2,
   "metadata": {},
   "outputs": [
    {
     "name": "stdout",
     "output_type": "stream",
     "text": [
      "(5270, 500)\n",
      "(5270, 505)\n"
     ]
    }
   ],
   "source": [
    "# LOAD THE DATA\n",
    "fileName = \"data/encoded_data/embeddings_w266.npy\"\n",
    "encodedData = np.load(fileName)\n",
    "encodedData = pandas.DataFrame(data = encodedData, columns = [\"x_\"+str(i) for i in range(500)])\n",
    "filename = \"data/Labeled_Colorado_Flu_Study_Tweets_AvI_RvN_SvO.csv\"\n",
    "coloradoData = pandas.read_csv(filename, sep=\"\\t\")\n",
    "print(encodedData.shape)\n",
    "allData = pandas.concat([coloradoData, encodedData], axis = 1)\n",
    "print(allData.shape)"
   ]
  },
  {
   "cell_type": "code",
   "execution_count": null,
   "metadata": {},
   "outputs": [],
   "source": []
  }
 ],
 "metadata": {
  "kernelspec": {
   "display_name": "Python 3",
   "language": "python",
   "name": "python3"
  },
  "language_info": {
   "codemirror_mode": {
    "name": "ipython",
    "version": 3
   },
   "file_extension": ".py",
   "mimetype": "text/x-python",
   "name": "python",
   "nbconvert_exporter": "python",
   "pygments_lexer": "ipython3",
   "version": "3.6.4"
  }
 },
 "nbformat": 4,
 "nbformat_minor": 2
}
