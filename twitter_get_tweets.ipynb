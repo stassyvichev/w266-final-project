{
 "cells": [
  {
   "cell_type": "code",
   "execution_count": 1,
   "metadata": {},
   "outputs": [],
   "source": [
    "import tweepy"
   ]
  },
  {
   "cell_type": "code",
   "execution_count": 2,
   "metadata": {},
   "outputs": [
    {
     "name": "stdout",
     "output_type": "stream",
     "text": [
      "Swine Flu has arrived at my daughter's kindergarten. 2 cases. & I think I'm getting her eye infection. Next few weeks will be fun. =(\n"
     ]
    }
   ],
   "source": [
    "consumer_key=\"\"\n",
    "consumer_secret=\"\"\n",
    "oauth_token=\"\"\n",
    "oauth_secret=\"\"\n",
    "\n",
    
    "\n",
    "\n",
    "auth = tweepy.OAuthHandler(consumer_key, consumer_secret)\n",
    "auth.set_access_token(oauth_token, oauth_secret)\n",
    "api = tweepy.API(auth)\n",
    "\n",
    "tweet = api.get_status(\"6004314210\")\n",
    "print(tweet.text)"
   ]
  },
  {
   "cell_type": "code",
   "execution_count": 3,
   "metadata": {},
   "outputs": [],
   "source": [
    "# INEFFICIENT\n",
    "def processFileWithTweets(filename):\n",
    "    countLine = 0\n",
    "    tweetsLabeled = []\n",
    "    tweetsError = []\n",
    "    with open(filename, \"r\") as f:\n",
    "        for line in f:\n",
    "            tweet_id, label = line.split(\"\\t\")\n",
    "            countLine = countLine + 1\n",
    "            try:\n",
    "                tweet = api.get_status(tweet_id)\n",
    "                tweetsLabeled.append((tweet_id, tweet.text, label))\n",
    "            except Exception as ex:\n",
    "                if \"Rate limit exceeded\" in str(ex):\n",
    "                    print(\"Error for tweet \"+tweet_id+\", line \"+ str(countLine) + \":\"+str(ex)) \n",
    "                    break\n",
    "                else:\n",
    "                    tweetsError.append((tweet_id, str(ex), label))\n",
    "    return tweetsLabeled, tweetsError"
   ]
  },
  {
   "cell_type": "code",
   "execution_count": 9,
   "metadata": {},
   "outputs": [
    {
     "name": "stdout",
     "output_type": "stream",
     "text": [
      "Error for tweet 5062169006, line 894:[{'message': 'Rate limit exceeded', 'code': 88}]\n"
     ]
    }
   ],
   "source": [
    "# INEFFICIENT\n",
    "# tweetsLabeled, tweetsError = processFileWithTweets(\"AwarenessVsInfection2009TweetIDs.txt\")"
   ]
  },
  {
   "cell_type": "code",
   "execution_count": 4,
   "metadata": {},
   "outputs": [],
   "source": [
    "def getTweetIDs(filename):\n",
    "    tweetIDs = []\n",
    "    tweetBatch = []\n",
    "    with open(filename, \"r\") as f:\n",
    "        for line in f:\n",
    "            tweet_id, label = line.split(\"\\t\")\n",
    "            if len(tweetBatch)>=100:\n",
    "                tweetIDs.append(tweetBatch)\n",
    "                tweetBatch = []\n",
    "            else:\n",
    "                tweetBatch.append(tweet_id)\n",
    "    tweetIDs.append(tweetBatch)\n",
    "    return tweetIDs"
   ]
  },
  {
   "cell_type": "code",
   "execution_count": 6,
   "metadata": {},
   "outputs": [],
   "source": [
    "def writeTweetTextFromFileToFile(fromFile=\"\", toFile=\"\"):\n",
    "    tweetIDs = getTweetIDs(fromFile)\n",
    "    tweetIDsText = []\n",
    "    count = 0\n",
    "    with open(toFile, \"w\") as f:\n",
    "        for batch in tweetIDs:\n",
    "            print(\"processing batch \"+str(count))\n",
    "            count +=1\n",
    "            tweets = api.statuses_lookup(batch)\n",
    "            for tweet in tweets:\n",
    "                f.write(\"\\t\".join([str(tweet.id), tweet.text,\"\\n\"]))"
   ]
  },
  {
   "cell_type": "code",
   "execution_count": 56,
   "metadata": {},
   "outputs": [],
   "source": [
    "# writeTweetTextFromFileToFile(\"AwarenessVsInfection2009TweetIDs.txt\", \"AwarenessVsInfection2009TweetIDs_text.txt\")\n",
    "# writeTweetTextFromFileToFile(\"AwarenessVsInfection2012TweetIDs.txt\", \"AwarenessVsInfection2012TweetIDs_text.txt\")\n",
    "\n",
    "# writeTweetTextFromFileToFile(\"RelatedVsNotRelated2009TweetIDs.txt\", \"RelatedVsNotRelated2009TweetIDs_text.txt\")\n",
    "# writeTweetTextFromFileToFile(\"RelatedVsNotRelated2012TweetIDs.txt\", \"RelatedVsNotRelated2012TweetIDs_text.txt\")\n",
    "# TODO:\n",
    "# writeTweetTextFromFileToFile(\"SelfVsOthers2009TweetIDs.txt\", \"SelfVsOthers2009TweetIDs_text.txt\")\n",
    "# writeTweetTextFromFileToFile(\"SelfVsOthers2012TweetIDs.txt\", \"SelfVsOthers2012TweetIDs_text.txt\")"
   ]
  },
  {
   "cell_type": "code",
   "execution_count": 10,
   "metadata": {},
   "outputs": [
    {
     "name": "stdout",
     "output_type": "stream",
     "text": [
      "AwarenessVsInfection2009TweetIDs_text.txt\n",
      "AwarenessVsInfection2012TweetIDs_text.txt\n",
      "RelatedVsNotRelated2009TweetIDs_text.txt\n",
      "string index out of range\n",
      "string index out of range\n",
      "RelatedVsNotRelated2012TweetIDs_text.txt\n",
      "string index out of range\n",
      "string index out of range\n",
      "string index out of range\n",
      "SelfVsOthers2009TweetIDs_text.txt\n",
      "SelfVsOthers2012TweetIDs_text.txt\n",
      "9396\n",
      "5200\n"
     ]
    }
   ],
   "source": [
    "filenames = [\"AwarenessVsInfection2009TweetIDs_text.txt\", \"AwarenessVsInfection2012TweetIDs_text.txt\", \"RelatedVsNotRelated2009TweetIDs_text.txt\", \"RelatedVsNotRelated2012TweetIDs_text.txt\", \"SelfVsOthers2009TweetIDs_text.txt\", \"SelfVsOthers2012TweetIDs_text.txt\"]\n",
    "allUniqueTweetIDs = []\n",
    "for filename in filenames:\n",
    "    print(filename)\n",
    "    with open(filename, \"r\") as f:\n",
    "        for line in f:\n",
    "            fields= line.split(\"\\t\")\n",
    "            try:\n",
    "                if fields[0][0] in \"0123456789\":\n",
    "                    allUniqueTweetIDs.append(fields[0])\n",
    "            except Exception as ex:\n",
    "                print(ex)\n",
    "print(len(allUniqueTweetIDs))\n",
    "print(len(set(allUniqueTweetIDs)))"
   ]
  },
  {
   "cell_type": "code",
   "execution_count": 8,
   "metadata": {},
   "outputs": [],
   "source": [
    "def getTweetIDsOneByOne(filename):\n",
    "    tweetIDs = []\n",
    "    with open(filename, \"r\") as f:\n",
    "        for line in f:\n",
    "            tweet_id, label = line.split(\"\\t\")\n",
    "            tweetIDs.append(tweet_id)\n",
    "    return tweetIDs"
   ]
  },
  {
   "cell_type": "code",
   "execution_count": 11,
   "metadata": {},
   "outputs": [
    {
     "name": "stdout",
     "output_type": "stream",
     "text": [
      "15131\n",
      "7960\n"
     ]
    }
   ],
   "source": [
    "tweetIDs1 = getTweetIDsOneByOne(\"AwarenessVsInfection2009TweetIDs.txt\")\n",
    "tweetIDs2 = getTweetIDsOneByOne(\"AwarenessVsInfection2012TweetIDs.txt\")\n",
    "\n",
    "tweetIDs3 = getTweetIDsOneByOne(\"RelatedVsNotRelated2009TweetIDs.txt\")\n",
    "tweetIDs4 = getTweetIDsOneByOne(\"RelatedVsNotRelated2012TweetIDs.txt\")\n",
    "\n",
    "tweetIDs5 = getTweetIDsOneByOne(\"SelfVsOthers2009TweetIDs.txt\")\n",
    "tweetIDs6 = getTweetIDsOneByOne(\"SelfVsOthers2012TweetIDs.txt\")\n",
    "\n",
    "allTweetIDs = []\n",
    "allTweetIDs.extend(tweetIDs1)\n",
    "allTweetIDs.extend(tweetIDs2)\n",
    "allTweetIDs.extend(tweetIDs3)\n",
    "allTweetIDs.extend(tweetIDs4)\n",
    "allTweetIDs.extend(tweetIDs5)\n",
    "allTweetIDs.extend(tweetIDs6)\n",
    "print(len(allTweetIDs))\n",
    "print(len(set(allTweetIDs)))"
   ]
  },
  {
   "cell_type": "code",
   "execution_count": null,
   "metadata": {},
   "outputs": [],
   "source": []
  }
 ],
 "metadata": {
  "kernelspec": {
   "display_name": "Python 3",
   "language": "python",
   "name": "python3"
  },
  "language_info": {
   "codemirror_mode": {
    "name": "ipython",
    "version": 3
   },
   "file_extension": ".py",
   "mimetype": "text/x-python",
   "name": "python",
   "nbconvert_exporter": "python",
   "pygments_lexer": "ipython3",
   "version": "3.6.4"
  }
 },
 "nbformat": 4,
 "nbformat_minor": 2
}
